{
 "cells": [
  {
   "cell_type": "code",
   "execution_count": null,
   "metadata": {},
   "outputs": [],
   "source": [
    "## Utility and basics\n",
    "import pandas as pd \n",
    "import numpy as np          # numerical computations, arrays, math functions\n",
    "import datetime as dt       # date and time manipulation\n",
    "import re                   # regular expressions for string pattern matching\n",
    "import json                 # working with JSON data\n",
    "\n",
    "## Charting and visualisation\n",
    "import matplotlib.pyplot as plt   # low-level plotting\n",
    "import seaborn as sns            # statistical plots built on matplotlib\n",
    "import plotly\n",
    "\n",
    "## For analysis\n",
    "import scipy.stats as stats      # hypothesis testing, distributions, etc.\n",
    "import statsmodels.api as sm     # linear models, time series analysis"
   ]
  },
  {
   "cell_type": "code",
   "execution_count": null,
   "metadata": {},
   "outputs": [
    {
     "name": "stdout",
     "output_type": "stream",
     "text": [
      "✅ Extraction successful!\n",
      "conjunto de dados - student.rar: RAR 5\n",
      "  conjunto de dados - student/atributos dos conjuntos de dados.txt  (3780 B)... OK.\n",
      "  conjunto de dados - student/student-mat.csv  (56993 B)... OK.\n",
      "  conjunto de dados - student/student-por.csv  (93220 B)... OK.\n",
      "  conjunto de dados - student/  (dir)... OK.\n",
      "Successfully extracted to \"extracted_files/conjunto de dados - student-1\".\n",
      "\n",
      "\n",
      "📄 Loaded: student-por.csv\n",
      "  school;sex;age;address;famsize;Pstatus;Medu;Fedu;Mjob;Fjob;reason;guardian;traveltime;studytime;failures;schoolsup;famsup;paid;activities;nursery;higher;internet;romantic;famrel;freetime;goout;Dalc;Walc;health;absences;G1;G2;G3\n",
      "0  GP;\"F\";18;\"U\";\"GT3\";\"A\";4;4;\"at_home\";\"teacher...                                                                                                                                                                                 \n",
      "1  GP;\"F\";17;\"U\";\"GT3\";\"T\";1;1;\"at_home\";\"other\";...                                                                                                                                                                                 \n",
      "2  GP;\"F\";15;\"U\";\"LE3\";\"T\";1;1;\"at_home\";\"other\";...                                                                                                                                                                                 \n",
      "3  GP;\"F\";15;\"U\";\"GT3\";\"T\";4;2;\"health\";\"services...                                                                                                                                                                                 \n",
      "4  GP;\"F\";16;\"U\";\"GT3\";\"T\";3;3;\"other\";\"other\";\"h...                                                                                                                                                                                 \n",
      "\n",
      "📄 Loaded: student-mat.csv\n",
      "  school;sex;age;address;famsize;Pstatus;Medu;Fedu;Mjob;Fjob;reason;guardian;traveltime;studytime;failures;schoolsup;famsup;paid;activities;nursery;higher;internet;romantic;famrel;freetime;goout;Dalc;Walc;health;absences;G1;G2;G3\n",
      "0  GP;\"F\";18;\"U\";\"GT3\";\"A\";4;4;\"at_home\";\"teacher...                                                                                                                                                                                 \n",
      "1  GP;\"F\";17;\"U\";\"GT3\";\"T\";1;1;\"at_home\";\"other\";...                                                                                                                                                                                 \n",
      "2  GP;\"F\";15;\"U\";\"LE3\";\"T\";1;1;\"at_home\";\"other\";...                                                                                                                                                                                 \n",
      "3  GP;\"F\";15;\"U\";\"GT3\";\"T\";4;2;\"health\";\"services...                                                                                                                                                                                 \n",
      "4  GP;\"F\";16;\"U\";\"GT3\";\"T\";3;3;\"other\";\"other\";\"h...                                                                                                                                                                                 \n",
      "\n",
      "📄 Loaded: student-por.csv\n",
      "  school;sex;age;address;famsize;Pstatus;Medu;Fedu;Mjob;Fjob;reason;guardian;traveltime;studytime;failures;schoolsup;famsup;paid;activities;nursery;higher;internet;romantic;famrel;freetime;goout;Dalc;Walc;health;absences;G1;G2;G3\n",
      "0  GP;\"F\";18;\"U\";\"GT3\";\"A\";4;4;\"at_home\";\"teacher...                                                                                                                                                                                 \n",
      "1  GP;\"F\";17;\"U\";\"GT3\";\"T\";1;1;\"at_home\";\"other\";...                                                                                                                                                                                 \n",
      "2  GP;\"F\";15;\"U\";\"LE3\";\"T\";1;1;\"at_home\";\"other\";...                                                                                                                                                                                 \n",
      "3  GP;\"F\";15;\"U\";\"GT3\";\"T\";4;2;\"health\";\"services...                                                                                                                                                                                 \n",
      "4  GP;\"F\";16;\"U\";\"GT3\";\"T\";3;3;\"other\";\"other\";\"h...                                                                                                                                                                                 \n",
      "\n",
      "📄 Loaded: student-mat.csv\n",
      "  school;sex;age;address;famsize;Pstatus;Medu;Fedu;Mjob;Fjob;reason;guardian;traveltime;studytime;failures;schoolsup;famsup;paid;activities;nursery;higher;internet;romantic;famrel;freetime;goout;Dalc;Walc;health;absences;G1;G2;G3\n",
      "0  GP;\"F\";18;\"U\";\"GT3\";\"A\";4;4;\"at_home\";\"teacher...                                                                                                                                                                                 \n",
      "1  GP;\"F\";17;\"U\";\"GT3\";\"T\";1;1;\"at_home\";\"other\";...                                                                                                                                                                                 \n",
      "2  GP;\"F\";15;\"U\";\"LE3\";\"T\";1;1;\"at_home\";\"other\";...                                                                                                                                                                                 \n",
      "3  GP;\"F\";15;\"U\";\"GT3\";\"T\";4;2;\"health\";\"services...                                                                                                                                                                                 \n",
      "4  GP;\"F\";16;\"U\";\"GT3\";\"T\";3;3;\"other\";\"other\";\"h...                                                                                                                                                                                 \n"
     ]
    }
   ],
   "source": [
    "## Test with Chatgpt to extract the files to start working on them\n",
    "import subprocess\n",
    "import os\n",
    "import pandas as pd\n",
    "import sqlite3\n",
    "\n",
    "# === Settings ===\n",
    "rar_filename = \"conjunto de dados - student.rar\"           # Your .rar file\n",
    "extract_dir = \"extracted_files\"     # Folder to extract into\n",
    "\n",
    "# === Step 1: Extract using unar ===\n",
    "os.makedirs(extract_dir, exist_ok=True)\n",
    "\n",
    "try:\n",
    "    result = subprocess.run(\n",
    "        ['unar', '-o', extract_dir, rar_filename],\n",
    "        check=True,\n",
    "        stdout=subprocess.PIPE,\n",
    "        stderr=subprocess.PIPE,\n",
    "        text=True\n",
    "    )\n",
    "    print(\"✅ Extraction successful!\")\n",
    "    print(result.stdout)\n",
    "except subprocess.CalledProcessError as e:\n",
    "    print(\"❌ Extraction failed:\")\n",
    "    print(e.stderr)\n",
    "    exit()\n",
    "\n",
    "# === Step 2: Auto-detect and load supported files ===\n",
    "def load_file(filepath):\n",
    "    if filepath.endswith('.csv'):\n",
    "        return pd.read_csv(filepath)\n",
    "    elif filepath.endswith('.pkl') or filepath.endswith('.pickle'):\n",
    "        return pd.read_pickle(filepath)\n",
    "    elif filepath.endswith('.parquet'):\n",
    "        return pd.read_parquet(filepath)\n",
    "    elif filepath.endswith('.db') or filepath.endswith('.sqlite'):\n",
    "        conn = sqlite3.connect(filepath)\n",
    "        tables = pd.read_sql_query(\"SELECT name FROM sqlite_master WHERE type='table';\", conn)\n",
    "        if tables.empty:\n",
    "            conn.close()\n",
    "            return None\n",
    "        table_name = tables.iloc[0, 0]\n",
    "        df = pd.read_sql_query(f\"SELECT * FROM {table_name}\", conn)\n",
    "        conn.close()\n",
    "        return df\n",
    "    return None\n",
    "\n",
    "# === Step 3: Recursively find and load files ===\n",
    "loaded_dfs = {}\n",
    "for root, dirs, files in os.walk(extract_dir):\n",
    "    for file in files:\n",
    "        full_path = os.path.join(root, file)\n",
    "        df = load_file(full_path)\n",
    "        if df is not None:\n",
    "            print(f\"\\n📄 Loaded: {file}\")\n",
    "            print(df.head())\n",
    "            loaded_dfs[file] = df\n",
    "\n",
    "if not loaded_dfs:\n",
    "    print(\"⚠️ No supported data files found in the archive.\")\n"
   ]
  },
  {
   "cell_type": "code",
   "execution_count": 16,
   "metadata": {},
   "outputs": [
    {
     "name": "stdout",
     "output_type": "stream",
     "text": [
      "(649, 1)\n",
      "Index(['school;sex;age;address;famsize;Pstatus;Medu;Fedu;Mjob;Fjob;reason;guardian;traveltime;studytime;failures;schoolsup;famsup;paid;activities;nursery;higher;internet;romantic;famrel;freetime;goout;Dalc;Walc;health;absences;G1;G2;G3'], dtype='object')\n",
      "  school;sex;age;address;famsize;Pstatus;Medu;Fedu;Mjob;Fjob;reason;guardian;traveltime;studytime;failures;schoolsup;famsup;paid;activities;nursery;higher;internet;romantic;famrel;freetime;goout;Dalc;Walc;health;absences;G1;G2;G3\n",
      "0  GP;\"F\";18;\"U\";\"GT3\";\"A\";4;4;\"at_home\";\"teacher...                                                                                                                                                                                 \n",
      "1  GP;\"F\";17;\"U\";\"GT3\";\"T\";1;1;\"at_home\";\"other\";...                                                                                                                                                                                 \n",
      "2  GP;\"F\";15;\"U\";\"LE3\";\"T\";1;1;\"at_home\";\"other\";...                                                                                                                                                                                 \n",
      "3  GP;\"F\";15;\"U\";\"GT3\";\"T\";4;2;\"health\";\"services...                                                                                                                                                                                 \n",
      "4  GP;\"F\";16;\"U\";\"GT3\";\"T\";3;3;\"other\";\"other\";\"h...                                                                                                                                                                                 \n",
      "       school;sex;age;address;famsize;Pstatus;Medu;Fedu;Mjob;Fjob;reason;guardian;traveltime;studytime;failures;schoolsup;famsup;paid;activities;nursery;higher;internet;romantic;famrel;freetime;goout;Dalc;Walc;health;absences;G1;G2;G3\n",
      "count                                                 649                                                                                                                                                                                 \n",
      "unique                                                649                                                                                                                                                                                 \n",
      "top     GP;\"F\";18;\"U\";\"GT3\";\"A\";4;4;\"at_home\";\"teacher...                                                                                                                                                                                 \n",
      "freq                                                    1                                                                                                                                                                                 \n",
      "school;sex;age;address;famsize;Pstatus;Medu;Fedu;Mjob;Fjob;reason;guardian;traveltime;studytime;failures;schoolsup;famsup;paid;activities;nursery;higher;internet;romantic;famrel;freetime;goout;Dalc;Walc;health;absences;G1;G2;G3    object\n",
      "dtype: object\n"
     ]
    }
   ],
   "source": [
    "df = loaded_dfs[\"student-por.csv\"]  # or \"student-por.csv\"\n",
    "\n",
    "print(df.shape)\n",
    "print(df.columns)\n",
    "print(df.head())\n",
    "print(df.describe())\n",
    "print(df.dtypes)"
   ]
  },
  {
   "cell_type": "code",
   "execution_count": 17,
   "metadata": {},
   "outputs": [
    {
     "name": "stdout",
     "output_type": "stream",
     "text": [
      "school;sex;age;address;famsize;Pstatus;Medu;Fedu;Mjob;Fjob;reason;guardian;traveltime;studytime;failures;schoolsup;famsup;paid;activities;nursery;higher;internet;romantic;famrel;freetime;goout;Dalc;Walc;health;absences;G1;G2;G3    0\n",
      "dtype: int64\n"
     ]
    }
   ],
   "source": [
    "print(df.isnull().sum())"
   ]
  }
 ],
 "metadata": {
  "kernelspec": {
   "display_name": ".venv",
   "language": "python",
   "name": "python3"
  },
  "language_info": {
   "codemirror_mode": {
    "name": "ipython",
    "version": 3
   },
   "file_extension": ".py",
   "mimetype": "text/x-python",
   "name": "python",
   "nbconvert_exporter": "python",
   "pygments_lexer": "ipython3",
   "version": "3.12.0"
  },
  "orig_nbformat": 4
 },
 "nbformat": 4,
 "nbformat_minor": 2
}
